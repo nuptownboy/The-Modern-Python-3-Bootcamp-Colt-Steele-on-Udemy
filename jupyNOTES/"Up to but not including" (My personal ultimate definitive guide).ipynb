{
 "cells": [
  {
   "cell_type": "markdown",
   "metadata": {},
   "source": [
    "# <center>Demonstrating instances of: </center>\n",
    "#  <center>  \"Up to but not including\"</center>\n",
    "## <center>NOTE TO SELF</center>\n",
    "### Broadly: list + string slicing() *compared to*  range() + randint() + len()"
   ]
  },
  {
   "cell_type": "markdown",
   "metadata": {},
   "source": [
    "In the case of list slicing, Python starts at the 0 index position and then you go up to and include the final list item that you are trying to process however you will get a 'out of range' IndexError if you go beyond the number of list items. Where as for string slicing you start at the '0' index position (which is referred to using '1') and go up to but do not include and will never get an IndexError for going beyond. \n",
    "\n",
    "When invoking the range() function, for the parameters you pass in, you start at the number entered but then go up to and do not include. \n",
    "\n",
    "The len() method is inclusive, starts at the 0 position but the counting starts at '1'. \n",
    "\n",
    "All of this is demonstrated below. "
   ]
  },
  {
   "cell_type": "markdown",
   "metadata": {},
   "source": [
    "### Demonstrate list slicing:"
   ]
  },
  {
   "cell_type": "code",
   "execution_count": 126,
   "metadata": {},
   "outputs": [
    {
     "name": "stdout",
     "output_type": "stream",
     "text": [
      "red\n",
      "blue\n",
      "green\n",
      "3\n"
     ]
    },
    {
     "ename": "IndexError",
     "evalue": "list index out of range",
     "output_type": "error",
     "traceback": [
      "\u001b[0;31m---------------------------------------------------------------------------\u001b[0m",
      "\u001b[0;31mIndexError\u001b[0m                                Traceback (most recent call last)",
      "\u001b[0;32m<ipython-input-126-01386a31e0d1>\u001b[0m in \u001b[0;36m<module>\u001b[0;34m\u001b[0m\n\u001b[1;32m      4\u001b[0m \u001b[0mprint\u001b[0m\u001b[0;34m(\u001b[0m\u001b[0mcolors\u001b[0m\u001b[0;34m[\u001b[0m\u001b[0;36m2\u001b[0m\u001b[0;34m]\u001b[0m\u001b[0;34m)\u001b[0m    \u001b[0;31m# green\u001b[0m\u001b[0;34m\u001b[0m\u001b[0;34m\u001b[0m\u001b[0m\n\u001b[1;32m      5\u001b[0m \u001b[0mprint\u001b[0m\u001b[0;34m(\u001b[0m\u001b[0mlen\u001b[0m\u001b[0;34m(\u001b[0m\u001b[0mcolors\u001b[0m\u001b[0;34m)\u001b[0m\u001b[0;34m)\u001b[0m  \u001b[0;31m# 3\u001b[0m\u001b[0;34m\u001b[0m\u001b[0;34m\u001b[0m\u001b[0m\n\u001b[0;32m----> 6\u001b[0;31m \u001b[0mprint\u001b[0m\u001b[0;34m(\u001b[0m\u001b[0mcolors\u001b[0m\u001b[0;34m[\u001b[0m\u001b[0;36m3\u001b[0m\u001b[0;34m]\u001b[0m\u001b[0;34m)\u001b[0m    \u001b[0;31m# \"Out of range\"\u001b[0m\u001b[0;34m\u001b[0m\u001b[0;34m\u001b[0m\u001b[0m\n\u001b[0m",
      "\u001b[0;31mIndexError\u001b[0m: list index out of range"
     ]
    }
   ],
   "source": [
    "colors = ['red', 'blue', 'green']\n",
    "print(colors[0])    # red\n",
    "print(colors[1])    # blue\n",
    "print(colors[2])    # green\n",
    "print(len(colors))  # 3\n",
    "print(colors[3])    # \"Out of range\""
   ]
  },
  {
   "cell_type": "markdown",
   "metadata": {},
   "source": [
    "Source: https://developers.google.com/edu/python/lists"
   ]
  },
  {
   "cell_type": "markdown",
   "metadata": {},
   "source": [
    "As shown above, the length count starts at the '0' position but the counting begins and 1 and is exclusive. For slicing, if you go beyond the range, this will result in an IndexError."
   ]
  },
  {
   "cell_type": "markdown",
   "metadata": {},
   "source": [
    "### Demonstrate string slicing:"
   ]
  },
  {
   "cell_type": "markdown",
   "metadata": {},
   "source": [
    "![alt text](hello.png)\n",
    "###### Alt: https://developers.google.com/edu/python/images/hello.png\n",
    "More: https://developers.google.com/edu/python/strings"
   ]
  },
  {
   "cell_type": "code",
   "execution_count": 39,
   "metadata": {},
   "outputs": [
    {
     "name": "stdout",
     "output_type": "stream",
     "text": [
      "ell\n",
      "ello\n",
      "Hello\n",
      "ello\n"
     ]
    }
   ],
   "source": [
    "s = \"Hello\"\n",
    "print(s[1:4]) # is 'ell' where characters starting at index 1 and extending up to but not including index 4\n",
    "print(s[1:]) # is 'ello'which omits either index defaults to the start or end of the string\n",
    "print(s[:]) # is 'Hello' which omits both always providing a copy of the whole thing (this is the pythonic way to copy a sequence like a string or list)\n",
    "print(s[1:100]) # is 'ello' demonstrates that an index that is too big is truncated down to the string length"
   ]
  },
  {
   "cell_type": "code",
   "execution_count": 40,
   "metadata": {},
   "outputs": [
    {
     "name": "stdout",
     "output_type": "stream",
     "text": [
      "o\n",
      "e\n",
      "He\n",
      "llo\n"
     ]
    }
   ],
   "source": [
    "s = \"Hello\"\n",
    "print(s[-1]) # is 'o' which shows the last char (1st from the end)\n",
    "print(s[-4]) # is 'e' which is 4th from the end\n",
    "print(s[:-3]) # is 'He' which goes up to but does not include the last 3 chars.\n",
    "print(s[-3:]) # is 'llo' -- starting with the 3rd char from the end and extending to the end of the string."
   ]
  },
  {
   "cell_type": "markdown",
   "metadata": {},
   "source": [
    "### Demonstrate list creation with range function:"
   ]
  },
  {
   "cell_type": "markdown",
   "metadata": {},
   "source": [
    "Print integers within given start and stop number using range() function:"
   ]
  },
  {
   "cell_type": "code",
   "execution_count": 24,
   "metadata": {},
   "outputs": [
    {
     "name": "stdout",
     "output_type": "stream",
     "text": [
      "5, 6, 7, 8, 9, "
     ]
    }
   ],
   "source": [
    "for i in range(5, 10):\n",
    "    print(i, end=', ')"
   ]
  },
  {
   "cell_type": "markdown",
   "metadata": {},
   "source": [
    "Source: https://pynative.com/python-range-function/\n",
    "\n",
    "As shown aboe, the first range() parameter is inclusive (does not start at '0' - - it begins at '1') but the second range paramter goes up to but does not include."
   ]
  },
  {
   "cell_type": "code",
   "execution_count": 104,
   "metadata": {},
   "outputs": [
    {
     "name": "stdout",
     "output_type": "stream",
     "text": [
      "Here is [5, 6] which is a <class 'list'>. \n",
      "\n",
      "Here is [5, 6] again which is now a <class 'str'>. \n",
      "\n",
      "The length of the this new string is 6. \n",
      "\n",
      "Here is [, 5, ,,  , 6, ] which is now a bastardization of a <class 'str'> because right now \", \" is being inserted at every single position in the already existing string.\n"
     ]
    }
   ],
   "source": [
    "new_list = []\n",
    "for i in range(5,7):\n",
    "    new_list.append(i)\n",
    "print(f'Here is {new_list} which is a {type(new_list)}. \\n')\n",
    "new_list_now_string = str(new_list) \n",
    "print(f'Here is {new_list} again which is now a {type(new_list_now_string)}. \\n')\n",
    "print(f'The length of the this new string is {len(new_list_now_string)}. \\n')\n",
    "as_string = ', '.join(new_list_now_string)\n",
    "print(f'Here is {as_string} which is now a bastardization of a {type(as_string)} because right now \", \" is being inserted at every single position in the already existing string.')"
   ]
  },
  {
   "cell_type": "markdown",
   "metadata": {},
   "source": [
    "Additional Note to Self: As you can see above at the second line (of the output) when the list becomes a string, the string includes square brackets."
   ]
  },
  {
   "cell_type": "markdown",
   "metadata": {},
   "source": [
    "What follows is a list comprehension operation which is a demonstration of both range() and randint() which take in identical numerical parameters but produces different behaviour. The randint() starts at '0' and goes up to and includes the final number - - so can generate from a spectrum of 6 potential random integers: 0,1,2,3,4,5. However range() produces a total of strictly 5 items, not 6. See here: "
   ]
  },
  {
   "cell_type": "code",
   "execution_count": 135,
   "metadata": {},
   "outputs": [
    {
     "name": "stdout",
     "output_type": "stream",
     "text": [
      "[1, 4, 0, 5, 3]\n"
     ]
    }
   ],
   "source": [
    "import random\n",
    "\n",
    "new_list = [ random.randint(0,5) for i in range(0,5) ]\n",
    "print(new_list)"
   ]
  },
  {
   "cell_type": "markdown",
   "metadata": {},
   "source": [
    "As shown above, passing in the same '0,5' (for randint() and range()) creates a list of a total of 5 items but 6 potential integers - - 0,1,2,3,4,5."
   ]
  },
  {
   "cell_type": "markdown",
   "metadata": {},
   "source": [
    "## Demo of len() method on list/strings"
   ]
  },
  {
   "cell_type": "code",
   "execution_count": 136,
   "metadata": {},
   "outputs": [
    {
     "name": "stdout",
     "output_type": "stream",
     "text": [
      "The length of the colours string is 4. But the 4th item in the lists is pulled using [3]: emerald \n",
      "\n",
      "Here is a new string I just created: \"Bob\". The length of this string is 3 but to pull the 3rd character, you use [:2] which results in this: \"b\"\n"
     ]
    }
   ],
   "source": [
    "colours = [\"indigo\", \"orange\", \"crimson\", \"emerald\",]\n",
    "print(f\"The length of the colours string is {len(colours)}. But the 4th item in the lists is pulled using [3]: {colours[3]} \\n\")\n",
    "\n",
    "quick_string = \"Bob\"\n",
    "print(f'Here is a new string I just created: \"{quick_string}\". The length of this string is {len(quick_string)} but to pull the 3rd character, you use [:2] which results in this: \"{quick_string[2:]}\"')"
   ]
  },
  {
   "cell_type": "markdown",
   "metadata": {},
   "source": [
    "Therefore, the len() method is inclusive. len() starts at the 0 index position but the counting starts at '1'. \n",
    "\n",
    "*This is true for both strings and lists*."
   ]
  },
  {
   "cell_type": "markdown",
   "metadata": {},
   "source": [
    "# To summarize for my future reference....\n",
    "## Here is my \"Up to but not including\" legend:\n",
    "\n",
    "For strings and lists, len() begins counting at the 1 index position and is always inclusive.\n",
    "\n",
    "For string and list slicing, it is always exclusive.\n",
    "\n",
    "For randint() parameters, it is similar to len() however counting begins where specified, inclusive of 0 (if there is a 0).\n",
    "\n",
    "For range() parameters it is like slicing."
   ]
  },
  {
   "cell_type": "code",
   "execution_count": null,
   "metadata": {},
   "outputs": [],
   "source": []
  }
 ],
 "metadata": {
  "kernelspec": {
   "display_name": "Python 3",
   "language": "python",
   "name": "python3"
  },
  "language_info": {
   "codemirror_mode": {
    "name": "ipython",
    "version": 3
   },
   "file_extension": ".py",
   "mimetype": "text/x-python",
   "name": "python",
   "nbconvert_exporter": "python",
   "pygments_lexer": "ipython3",
   "version": "3.7.4"
  }
 },
 "nbformat": 4,
 "nbformat_minor": 2
}
