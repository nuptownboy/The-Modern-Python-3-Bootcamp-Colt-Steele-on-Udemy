{
 "cells": [
  {
   "cell_type": "markdown",
   "metadata": {},
   "source": [
    "# <center>Demonstrating instances of: </center>\n",
    "#  <center>  \"Up to but not including\"</center>\n",
    "## <center>NOTE TO SELF</center>\n",
    "### Broadly: list + string slicing() *compared to*  range() + randint() + len()"
   ]
  },
  {
   "cell_type": "markdown",
   "metadata": {},
   "source": [
    "In the case of list slicing, Python starts at the 0 index position and then you go up to and include the final list item that you are trying to process however you will get a 'out of range' IndexError if you go beyond the number of list items. Where as for string slicing you start at the '0' index position (which is referred to using '1') and go up to but do not include and will never get an IndexError for going beyond. \n",
    "\n",
    "When invoking the range() function, for the parameters you pass in, you start at the number entered but then go up to and do not include. \n",
    "\n",
    "The len() method is inclusive, starts at the 0 position but the counting starts at '1'. \n",
    "\n",
    "All of this is demonstrated below. "
   ]
  },
  {
   "cell_type": "markdown",
   "metadata": {},
   "source": [
    "### Demonstrate list slicing:"
   ]
  },
  {
   "cell_type": "code",
   "execution_count": 126,
   "metadata": {},
   "outputs": [
    {
     "name": "stdout",
     "output_type": "stream",
     "text": [
      "red\n",
      "blue\n",
      "green\n",
      "3\n"
     ]
    },
    {
     "ename": "IndexError",
     "evalue": "list index out of range",
     "output_type": "error",
     "traceback": [
      "\u001b[0;31m---------------------------------------------------------------------------\u001b[0m",
      "\u001b[0;31mIndexError\u001b[0m                                Traceback (most recent call last)",
      "\u001b[0;32m<ipython-input-126-01386a31e0d1>\u001b[0m in \u001b[0;36m<module>\u001b[0;34m\u001b[0m\n\u001b[1;32m      4\u001b[0m \u001b[0mprint\u001b[0m\u001b[0;34m(\u001b[0m\u001b[0mcolors\u001b[0m\u001b[0;34m[\u001b[0m\u001b[0;36m2\u001b[0m\u001b[0;34m]\u001b[0m\u001b[0;34m)\u001b[0m    \u001b[0;31m# green\u001b[0m\u001b[0;34m\u001b[0m\u001b[0;34m\u001b[0m\u001b[0m\n\u001b[1;32m      5\u001b[0m \u001b[0mprint\u001b[0m\u001b[0;34m(\u001b[0m\u001b[0mlen\u001b[0m\u001b[0;34m(\u001b[0m\u001b[0mcolors\u001b[0m\u001b[0;34m)\u001b[0m\u001b[0;34m)\u001b[0m  \u001b[0;31m# 3\u001b[0m\u001b[0;34m\u001b[0m\u001b[0;34m\u001b[0m\u001b[0m\n\u001b[0;32m----> 6\u001b[0;31m \u001b[0mprint\u001b[0m\u001b[0;34m(\u001b[0m\u001b[0mcolors\u001b[0m\u001b[0;34m[\u001b[0m\u001b[0;36m3\u001b[0m\u001b[0;34m]\u001b[0m\u001b[0;34m)\u001b[0m    \u001b[0;31m# \"Out of range\"\u001b[0m\u001b[0;34m\u001b[0m\u001b[0;34m\u001b[0m\u001b[0m\n\u001b[0m",
      "\u001b[0;31mIndexError\u001b[0m: list index out of range"
     ]
    }
   ],
   "source": [
    "colors = ['red', 'blue', 'green']\n",
    "print(colors[0])    # red\n",
    "print(colors[1])    # blue\n",
    "print(colors[2])    # green\n",
    "print(len(colors))  # 3\n",
    "print(colors[3])    # \"Out of range\""
   ]
  },
  {
   "cell_type": "markdown",
   "metadata": {},
   "source": [
    "Source: https://developers.google.com/edu/python/lists"
   ]
  },
  {
   "cell_type": "markdown",
   "metadata": {},
   "source": [
    "As shown above, the length count starts at the '0' position but the counting begins and 1 and is exclusive. For slicing, if you go beyond the range, this will result in an IndexError."
   ]
  },
  {
   "cell_type": "markdown",
   "metadata": {},
   "source": [
    "# FOR THE BEST diagram demonstrating string/ist slicing....\n",
    "### ...see the bottom of this Notebook by *@ichabod801*. Although this is the original and still valid and helpful too:\n",
    "\n",
    "## Demonstrate string slicing:"
   ]
  },
  {
   "cell_type": "markdown",
   "metadata": {},
   "source": [
    "![alt text](hello.png)\n",
    "###### Alt: https://developers.google.com/edu/python/images/hello.png\n",
    "More: https://developers.google.com/edu/python/strings"
   ]
  },
  {
   "cell_type": "code",
   "execution_count": 39,
   "metadata": {},
   "outputs": [
    {
     "name": "stdout",
     "output_type": "stream",
     "text": [
      "ell\n",
      "ello\n",
      "Hello\n",
      "ello\n"
     ]
    }
   ],
   "source": [
    "s = \"Hello\"\n",
    "print(s[1:4]) # is 'ell' where characters starting at index 1 and extending up to but not including index 4\n",
    "print(s[1:]) # is 'ello'which omits either index defaults to the start or end of the string\n",
    "print(s[:]) # is 'Hello' which omits both always providing a copy of the whole thing (this is the pythonic way to copy a sequence like a string or list)\n",
    "print(s[1:100]) # is 'ello' demonstrates that an index that is too big is truncated down to the string length"
   ]
  },
  {
   "cell_type": "code",
   "execution_count": 40,
   "metadata": {},
   "outputs": [
    {
     "name": "stdout",
     "output_type": "stream",
     "text": [
      "o\n",
      "e\n",
      "He\n",
      "llo\n"
     ]
    }
   ],
   "source": [
    "s = \"Hello\"\n",
    "print(s[-1]) # is 'o' which shows the last char (1st from the end)\n",
    "print(s[-4]) # is 'e' which is 4th from the end\n",
    "print(s[:-3]) # is 'He' which goes up to but does not include the last 3 chars.\n",
    "print(s[-3:]) # is 'llo' -- starting with the 3rd char from the end and extending to the end of the string."
   ]
  },
  {
   "cell_type": "markdown",
   "metadata": {},
   "source": [
    "### Demonstrate list creation with range function:"
   ]
  },
  {
   "cell_type": "markdown",
   "metadata": {},
   "source": [
    "Print integers within given start and stop number using range() function:"
   ]
  },
  {
   "cell_type": "code",
   "execution_count": 24,
   "metadata": {},
   "outputs": [
    {
     "name": "stdout",
     "output_type": "stream",
     "text": [
      "5, 6, 7, 8, 9, "
     ]
    }
   ],
   "source": [
    "for i in range(5, 10):\n",
    "    print(i, end=', ')"
   ]
  },
  {
   "cell_type": "markdown",
   "metadata": {},
   "source": [
    "Source: https://pynative.com/python-range-function/\n",
    "\n",
    "As shown aboe, the first range() parameter is inclusive (does not start at '0' - - it begins at '1') but the second range paramter goes up to but does not include."
   ]
  },
  {
   "cell_type": "code",
   "execution_count": 104,
   "metadata": {},
   "outputs": [
    {
     "name": "stdout",
     "output_type": "stream",
     "text": [
      "Here is [5, 6] which is a <class 'list'>. \n",
      "\n",
      "Here is [5, 6] again which is now a <class 'str'>. \n",
      "\n",
      "The length of the this new string is 6. \n",
      "\n",
      "Here is [, 5, ,,  , 6, ] which is now a bastardization of a <class 'str'> because right now \", \" is being inserted at every single position in the already existing string.\n"
     ]
    }
   ],
   "source": [
    "new_list = []\n",
    "for i in range(5,7):\n",
    "    new_list.append(i)\n",
    "print(f'Here is {new_list} which is a {type(new_list)}. \\n')\n",
    "new_list_now_string = str(new_list) \n",
    "print(f'Here is {new_list} again which is now a {type(new_list_now_string)}. \\n')\n",
    "print(f'The length of the this new string is {len(new_list_now_string)}. \\n')\n",
    "as_string = ', '.join(new_list_now_string)\n",
    "print(f'Here is {as_string} which is now a bastardization of a {type(as_string)} because right now \", \" is being inserted at every single position in the already existing string.')"
   ]
  },
  {
   "cell_type": "markdown",
   "metadata": {},
   "source": [
    "Additional Note to Self: As you can see above at the second line (of the output) when the list becomes a string, the string includes square brackets."
   ]
  },
  {
   "cell_type": "markdown",
   "metadata": {},
   "source": [
    "What follows is a list comprehension operation which is a demonstration of both range() and randint() which take in identical numerical parameters but produces different behaviour. The randint() starts at '0' and goes up to and includes the final number - - so can generate from a spectrum of 6 potential random integers: 0,1,2,3,4,5. However range() produces a total of strictly 5 items, not 6. See here: "
   ]
  },
  {
   "cell_type": "code",
   "execution_count": 241,
   "metadata": {},
   "outputs": [
    {
     "name": "stdout",
     "output_type": "stream",
     "text": [
      "[3, 4, 1, 4, 0]\n"
     ]
    }
   ],
   "source": [
    "import random\n",
    "\n",
    "new_list = [ random.randint(0,5) for i in range(0,5) ]\n",
    "print(new_list)"
   ]
  },
  {
   "cell_type": "markdown",
   "metadata": {},
   "source": [
    "As shown above, passing in the same '0,5' (for randint() and range()) creates a list of a total of 5 items but 6 potential integers - - 0,1,2,3,4,5."
   ]
  },
  {
   "cell_type": "markdown",
   "metadata": {},
   "source": [
    "## Demo of len() method on list/strings"
   ]
  },
  {
   "cell_type": "code",
   "execution_count": 145,
   "metadata": {},
   "outputs": [
    {
     "name": "stdout",
     "output_type": "stream",
     "text": [
      "The length of the colours string is 4. But the 4th item in the lists is pulled using [3]: emerald \n",
      "\n",
      "Here is a new string I just created: \"Bob\". The length of this string is 3 but to pull the 3rd character, you use [2] which results in this: \"b\"\n"
     ]
    }
   ],
   "source": [
    "colours = [\"indigo\", \"orange\", \"crimson\", \"emerald\",]\n",
    "print(f\"The length of the colours string is {len(colours)}. But the \\\n",
    "4th item in the lists is pulled using [3]: {colours[3]} \\n\")\n",
    "\n",
    "quick_string = \"Bob\"\n",
    "print(f'Here is a new string I just created: \"{quick_string}\". \\\n",
    "The length of this string is {len(quick_string)} but to pull the \\\n",
    "3rd character, you use [2] which results in this: \"{quick_string[2]}\"')"
   ]
  },
  {
   "cell_type": "markdown",
   "metadata": {},
   "source": [
    "Therefore, the len() method is inclusive. len() starts at the 0 index position but the counting starts at '1'. \n",
    "\n",
    "*This is true for both strings and lists*."
   ]
  },
  {
   "cell_type": "markdown",
   "metadata": {},
   "source": [
    "# To summarize for my future reference....\n",
    "## Here is my \"Up to but not including\" legend:\n",
    "\n",
    "For strings and lists, len() begins counting at the 1 index position and is always inclusive.\n",
    "\n",
    "For string and list slicing, it is always exclusive.\n",
    "\n",
    "For randint() parameters, it is similar to len() however counting begins where specified, inclusive of 0 (if there is a 0).\n",
    "\n",
    "For range() parameters it is like slicing."
   ]
  },
  {
   "cell_type": "markdown",
   "metadata": {},
   "source": [
    "# NOW DANIEL: See Colt Steele's Udemy course, Section 12, Module 102 @ 7min:05sec --> Use this to demonstrate the disctinction between `len()` and list slicing with indexing"
   ]
  },
  {
   "cell_type": "code",
   "execution_count": 231,
   "metadata": {},
   "outputs": [],
   "source": [
    "colours4 = [\"indigo\", \"orange\", \"crimson\",\"emerald\",]"
   ]
  },
  {
   "cell_type": "code",
   "execution_count": 248,
   "metadata": {},
   "outputs": [
    {
     "name": "stdout",
     "output_type": "stream",
     "text": [
      "Line #1:4\n",
      "Line #2:emerald\n",
      "Line #3:['emerald']\n",
      "Line #4:[]\n",
      "Line #5:['emerald']\n",
      "Line #6:[]\n",
      "Line #7:['emerald']\n",
      "Line #8:['emerald']\n",
      "Line #9:['indigo', 'orange', 'crimson', 'emerald']\n"
     ]
    },
    {
     "ename": "IndexError",
     "evalue": "list index out of range",
     "output_type": "error",
     "traceback": [
      "\u001b[0;31m---------------------------------------------------------------------------\u001b[0m",
      "\u001b[0;31mIndexError\u001b[0m                                Traceback (most recent call last)",
      "\u001b[0;32m<ipython-input-248-3a3fa9e752ea>\u001b[0m in \u001b[0;36m<module>\u001b[0;34m\u001b[0m\n\u001b[1;32m      8\u001b[0m \u001b[0mprint\u001b[0m\u001b[0;34m(\u001b[0m\u001b[0;34mf'Line #8:{colours4[3:]}'\u001b[0m\u001b[0;34m)\u001b[0m\u001b[0;34m\u001b[0m\u001b[0;34m\u001b[0m\u001b[0m\n\u001b[1;32m      9\u001b[0m \u001b[0mprint\u001b[0m\u001b[0;34m(\u001b[0m\u001b[0;34mf'Line #9:{colours4[0:4]}'\u001b[0m\u001b[0;34m)\u001b[0m \u001b[0;31m#\u001b[0m\u001b[0;34m\u001b[0m\u001b[0;34m\u001b[0m\u001b[0m\n\u001b[0;32m---> 10\u001b[0;31m \u001b[0mprint\u001b[0m\u001b[0;34m(\u001b[0m\u001b[0;34mf'Line #10:{colours4[4]}'\u001b[0m\u001b[0;34m)\u001b[0m \u001b[0;31m# Error: out of range????\u001b[0m\u001b[0;34m\u001b[0m\u001b[0;34m\u001b[0m\u001b[0m\n\u001b[0m",
      "\u001b[0;31mIndexError\u001b[0m: list index out of range"
     ]
    }
   ],
   "source": [
    "print(f'Line #1:{len(colours4)}') # length of list\n",
    "print(f'Line #2:{colours4[-1]}') # first item from end\n",
    "print(f'Line #3:{colours4[-1:]}') # ditto\n",
    "print(f'Line #4:{colours4[len(colours4):]}') # index of len of list\n",
    "print(f'Line #5:{colours4[len(colours4)-1:]}') # index of len of list less 1 position\n",
    "print(f'Line #6:{colours4[4:]}') \n",
    "print(f'Line #7:{colours4[4-1:]}') \n",
    "print(f'Line #8:{colours4[3:]}')\n",
    "print(f'Line #9:{colours4[0:4]}') # prints whole list\n",
    "print(f'Line #10:{colours4[4]}') # Error: out of range????"
   ]
  },
  {
   "cell_type": "markdown",
   "metadata": {},
   "source": [
    "### THEREFORE,\n",
    "# BE IT RESOLVED:\n",
    "One way to distinguish between len() and the integers passed into a list slice is to reflect on the following code snippet (based on lines 4 and 5 above): "
   ]
  },
  {
   "cell_type": "code",
   "execution_count": 271,
   "metadata": {},
   "outputs": [
    {
     "name": "stdout",
     "output_type": "stream",
     "text": [
      "First attempt: []\n",
      "Second attempt:['emerald']\n"
     ]
    }
   ],
   "source": [
    "colours5 = [\"indigo\", \"orange\", \"crimson\",\"emerald\",]\n",
    "# To get the last index of len of list, this will not work:\n",
    "print(f'First attempt: {colours5[len(colours5):]}') \n",
    "# To get the last index of len of list...\n",
    "# ...you need to subtract 1 integer from the total length of the list:\n",
    "print(f'Second attempt:{colours5[len(colours5)-1:]}') "
   ]
  },
  {
   "cell_type": "markdown",
   "metadata": {},
   "source": [
    "The final item in the list above is the 4th. But submitting '4' as a slice returns nothing. To grab the last item in a list, you need to take the total length *minus 1*. This distinction between len() and slicing paramters is a helpful way of recalling the difference between the two. This is clear and easy to remember."
   ]
  },
  {
   "cell_type": "markdown",
   "metadata": {},
   "source": [
    "Another way of modelling list slicing, according to forum member **@ichabod801**, is this:"
   ]
  },
  {
   "cell_type": "code",
   "execution_count": 272,
   "metadata": {},
   "outputs": [],
   "source": [
    "lunch =  ['Spam', 'spam', 'spam', 'eggs', 'spam', ]\n",
    "#        ^       ^       ^       ^       ^      ^\n",
    "#        |       |       |       |       |      |\n",
    "#        0       1       2       3       4      5\n",
    "#       -5      -4      -3      -2      -1     "
   ]
  },
  {
   "cell_type": "markdown",
   "metadata": {},
   "source": [
    "Also, (this time courtesy of **@micseydel** on Python-Forum.io), take a look at this elegant code sample:"
   ]
  },
  {
   "cell_type": "code",
   "execution_count": 279,
   "metadata": {},
   "outputs": [
    {
     "data": {
      "text/plain": [
       "True"
      ]
     },
     "execution_count": 279,
     "metadata": {},
     "output_type": "execute_result"
    }
   ],
   "source": [
    "def f(n):\n",
    "    return len(list(range(n))) == n\n",
    "f(26)"
   ]
  },
  {
   "cell_type": "code",
   "execution_count": 278,
   "metadata": {},
   "outputs": [
    {
     "name": "stdout",
     "output_type": "stream",
     "text": [
      "[0, 1, 2, 3, 4, 5, 6, 7, 8, 9, 10, 11, 12, 13, 14, 15, 16, 17, 18, 19, 20, 21, 22, 23, 24, 25]\n"
     ]
    }
   ],
   "source": [
    "print(list(range(26)))"
   ]
  },
  {
   "cell_type": "markdown",
   "metadata": {},
   "source": [
    "### *THEREFORE*... \n",
    "if there is a single integer passed into the range() function, it starts at 0 and goes up to *but does not include the final number* in the generated list. In this way, it's similar to list slicing. But when passing in parameters to randint(), the result includes the integer at the beginning as well as up to (and including) the final integer at the end. "
   ]
  }
 ],
 "metadata": {
  "kernelspec": {
   "display_name": "Python 3",
   "language": "python",
   "name": "python3"
  },
  "language_info": {
   "codemirror_mode": {
    "name": "ipython",
    "version": 3
   },
   "file_extension": ".py",
   "mimetype": "text/x-python",
   "name": "python",
   "nbconvert_exporter": "python",
   "pygments_lexer": "ipython3",
   "version": "3.7.4"
  }
 },
 "nbformat": 4,
 "nbformat_minor": 2
}
