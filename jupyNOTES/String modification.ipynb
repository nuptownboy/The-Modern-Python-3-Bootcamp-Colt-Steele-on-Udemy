{
 "cells": [
  {
   "cell_type": "code",
   "execution_count": null,
   "metadata": {},
   "outputs": [],
   "source": []
  },
  {
   "cell_type": "code",
   "execution_count": null,
   "metadata": {},
   "outputs": [],
   "source": []
  },
  {
   "cell_type": "markdown",
   "metadata": {},
   "source": [
    "# Source: https://developers.google.com/edu/python/strings\n"
   ]
  },
  {
   "cell_type": "markdown",
   "metadata": {},
   "source": [
    "## Demonstrate string modification:"
   ]
  },
  {
   "cell_type": "code",
   "execution_count": 6,
   "metadata": {},
   "outputs": [
    {
     "name": "stdout",
     "output_type": "stream",
     "text": [
      "Line 1: hello, other old and new world!\n",
      "Line 2: HELLO, OTHER OLD AND NEW WORLD!\n",
      "Line 3: Hello, other old and new world!\n",
      "Line 4: Starts with Hello?: True. And ends with other?: False\n",
      "Line 5: ['Hello', ' other old and new world!'] which returns a list of substrings separated by the given delimiter.\n",
      "Line 6: Hello, other old and new world!\n"
     ]
    }
   ],
   "source": [
    "s2 = \"Hello, other old and new world!\"\n",
    "print(f\"Line 1: {s2.lower()}\") # turns all letters to lower case\n",
    "print(f\"Line 2: {s2.upper()}\") # returns the lowercase or uppercase version of the string\n",
    "print(f\"Line 3: {s2.strip()}\") # returns a string with whitespace removed from the start and end\n",
    "print(f\"Line 4: Starts with Hello?: {s2.startswith('Hello')}. And ends with other?: {s2.endswith('other')}\") # tests if the string starts or ends with the given other string\n",
    "print(f\"Line 5: {s2.split(',')} which returns a list of substrings separated by the given delimiter.\") \n",
    "print(f\"Line 6: {s2.capitalize()}\") # capitalizes the first character"
   ]
  },
  {
   "cell_type": "code",
   "execution_count": null,
   "metadata": {},
   "outputs": [],
   "source": []
  },
  {
   "cell_type": "markdown",
   "metadata": {},
   "source": [
    "About line 5 (above), the delimiter is not a regular expression, it's just text. 'aaa,bbb,ccc'.split(',') which would turn into a list like this: ['aaa', 'bbb', 'ccc']. As a convenient special case s.split() (with no arguments) splits on all whitespace chars.\")"
   ]
  },
  {
   "cell_type": "code",
   "execution_count": 76,
   "metadata": {},
   "outputs": [],
   "source": [
    "# print(f\"1 {.find('other')}\") # searches for the given other string (not a regular expression) within s, and returns the first index where it begins or -1 if not found\n",
    "# print(f\"1 {.replace('old', 'new')}\") # returns a string where all occurrences of 'old' have been replaced by 'new'\n",
    "# print(f\"{s.join([1,2,3,4,5])}\") \n",
    "# opposite of split(), joins the elements in the given list together using the string as the delimiter. e.g. '---'.join(['aaa', 'bbb', 'ccc']) -> aaa---bbb---ccc"
   ]
  },
  {
   "cell_type": "markdown",
   "metadata": {},
   "source": [
    "# help(list()):"
   ]
  },
  {
   "cell_type": "code",
   "execution_count": 108,
   "metadata": {},
   "outputs": [
    {
     "ename": "SyntaxError",
     "evalue": "invalid syntax (<ipython-input-108-7b104b005d6d>, line 1)",
     "output_type": "error",
     "traceback": [
      "\u001b[0;36m  File \u001b[0;32m\"<ipython-input-108-7b104b005d6d>\"\u001b[0;36m, line \u001b[0;32m1\u001b[0m\n\u001b[0;31m    Help on list object:\u001b[0m\n\u001b[0m          ^\u001b[0m\n\u001b[0;31mSyntaxError\u001b[0m\u001b[0;31m:\u001b[0m invalid syntax\n"
     ]
    }
   ],
   "source": [
    "Help on list object:\n",
    "\n",
    "class list(object)\n",
    " |  list(iterable=(), /)\n",
    " |  \n",
    " |  Built-in mutable sequence.\n",
    " |  \n",
    " |  If no argument is given, the constructor creates a new empty list.\n",
    " |  The argument must be an iterable if specified.\n",
    " |  \n",
    " |  Methods defined here:\n",
    " |  \n",
    " |  __add__(self, value, /)\n",
    " |      Return self+value.\n",
    " |  \n",
    " |  __contains__(self, key, /)\n",
    " |      Return key in self.\n",
    " |  \n",
    " |  __delitem__(self, key, /)\n",
    " |      Delete self[key].\n",
    " |  \n",
    " |  __eq__(self, value, /)\n",
    " |      Return self==value.\n",
    " |  \n",
    " |  __ge__(self, value, /)\n",
    " |      Return self>=value.\n",
    " |  \n",
    " |  __getattribute__(self, name, /)\n",
    " |      Return getattr(self, name).\n",
    " |  \n",
    " |  __getitem__(...)\n",
    " |      x.__getitem__(y) <==> x[y]\n",
    " |  \n",
    " |  __gt__(self, value, /)\n",
    " |      Return self>value.\n",
    " |  \n",
    " |  __iadd__(self, value, /)\n",
    " |      Implement self+=value.\n",
    " |  \n",
    " |  __imul__(self, value, /)\n",
    " |      Implement self*=value.\n",
    " |  \n",
    " |  __init__(self, /, *args, **kwargs)\n",
    " |      Initialize self.  See help(type(self)) for accurate signature.\n",
    " |  \n",
    " |  __iter__(self, /)\n",
    " |      Implement iter(self).\n",
    " |  \n",
    " |  __le__(self, value, /)\n",
    " |      Return self<=value.\n",
    " |  \n",
    " |  __len__(self, /)\n",
    " |      Return len(self).\n",
    " |  \n",
    " |  __lt__(self, value, /)\n",
    " |      Return self<value.\n",
    " |  \n",
    " |  __mul__(self, value, /)\n",
    " |      Return self*value.\n",
    " |  \n",
    " |  __ne__(self, value, /)\n",
    " |      Return self!=value.\n",
    " |  \n",
    " |  __repr__(self, /)\n",
    " |      Return repr(self).\n",
    " |  \n",
    " |  __reversed__(self, /)\n",
    " |      Return a reverse iterator over the list.\n",
    " |  \n",
    " |  __rmul__(self, value, /)\n",
    " |      Return value*self.\n",
    " |  \n",
    " |  __setitem__(self, key, value, /)\n",
    " |      Set self[key] to value.\n",
    " |  \n",
    " |  __sizeof__(self, /)\n",
    " |      Return the size of the list in memory, in bytes.\n",
    " |  \n",
    " |  append(self, object, /)\n",
    " |      Add object to the end of the list.\n",
    " |  \n",
    " |  clear(self, /)\n",
    " |      Remove all items from list.\n",
    " |  \n",
    " |  copy(self, /)\n",
    " |      Return a shallow copy of the list.\n",
    " |  \n",
    " |  count(self, value, /)\n",
    " |      Return number of occurrences of value.\n",
    " |  \n",
    " |  extend(self, iterable, /)\n",
    " |      Extend list by appending elements from the iterable.\n",
    " |  \n",
    " |  index(self, value, start=0, stop=9223372036854775807, /)\n",
    " |      Return first index of value.\n",
    " |      \n",
    " |      Raises ValueError if the value is not present.\n",
    " |  \n",
    " |  insert(self, index, object, /)\n",
    " |      Insert object before index.\n",
    " |  \n",
    " |  pop(self, index=-1, /)\n",
    " |      Remove and return item at index (default last).\n",
    " |      \n",
    " |      Raises IndexError if list is empty or index is out of range.\n",
    " |  \n",
    " |  remove(self, value, /)\n",
    " |      Remove first occurrence of value.\n",
    " |      \n",
    " |      Raises ValueError if the value is not present.\n",
    " |  \n",
    " |  reverse(self, /)\n",
    " |      Reverse *IN PLACE*.\n",
    " |  \n",
    " |  sort(self, /, *, key=None, reverse=False)\n",
    " |      Stable sort *IN PLACE*.\n",
    " |  \n",
    " |  ----------------------------------------------------------------------\n",
    " |  Static methods defined here:\n",
    " |  \n",
    " |  __new__(*args, **kwargs) from builtins.type\n",
    " |      Create and return a new object.  See help(type) for accurate signature.\n",
    " |  \n",
    " |  ----------------------------------------------------------------------\n",
    " |  Data and other attributes defined here:\n",
    " |  \n",
    " |  __hash__ = None\n"
   ]
  },
  {
   "cell_type": "code",
   "execution_count": null,
   "metadata": {},
   "outputs": [],
   "source": []
  }
 ],
 "metadata": {
  "kernelspec": {
   "display_name": "Python 3",
   "language": "python",
   "name": "python3"
  },
  "language_info": {
   "codemirror_mode": {
    "name": "ipython",
    "version": 3
   },
   "file_extension": ".py",
   "mimetype": "text/x-python",
   "name": "python",
   "nbconvert_exporter": "python",
   "pygments_lexer": "ipython3",
   "version": "3.7.4"
  }
 },
 "nbformat": 4,
 "nbformat_minor": 2
}
