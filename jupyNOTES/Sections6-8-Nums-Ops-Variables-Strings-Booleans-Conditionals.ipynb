{
 "cells": [
  {
   "cell_type": "code",
   "execution_count": null,
   "metadata": {},
   "outputs": [],
   "source": []
  },
  {
   "cell_type": "markdown",
   "metadata": {},
   "source": [
    "## Coding Exercise 4: Make Some Variables"
   ]
  },
  {
   "cell_type": "code",
   "execution_count": 1,
   "metadata": {},
   "outputs": [],
   "source": [
    "# Define a variable named city and set it equal to any string\n",
    "\n",
    "# Define a variable named price and set it equal to any float\n",
    "\n",
    "# Define a variable named high_score and set it equal to any int\n",
    "\n",
    "# Define a variable named is_having_fun and set it to a Boolean value"
   ]
  },
  {
   "cell_type": "code",
   "execution_count": null,
   "metadata": {},
   "outputs": [],
   "source": []
  },
  {
   "cell_type": "markdown",
   "metadata": {},
   "source": [
    "## Coding Exercise 5 Escape Sequences"
   ]
  },
  {
   "cell_type": "code",
   "execution_count": null,
   "metadata": {},
   "outputs": [],
   "source": [
    " # Set the message variable equal to any string containing a new-line escape sequence\n",
    "message = \"\"\n",
    "\n",
    "\n",
    "# Add a string to the mountains variable that when printed results in: /\\/\\/\\\n",
    "# You will need to use an escape sequence more than once!\n",
    "mountains = \"\"\n",
    "\n",
    "\n",
    "# Set the quotation variable to any string that contains an escaped double quotation mark\n",
    "\n",
    "quotation = \"\""
   ]
  },
  {
   "cell_type": "code",
   "execution_count": null,
   "metadata": {},
   "outputs": [],
   "source": []
  },
  {
   "cell_type": "markdown",
   "metadata": {},
   "source": [
    "## Coding Exercise 6: String Concatenation"
   ]
  },
  {
   "cell_type": "code",
   "execution_count": 31,
   "metadata": {},
   "outputs": [
    {
     "name": "stdout",
     "output_type": "stream",
     "text": [
      "Hello, Daniel!\n"
     ]
    }
   ],
   "source": [
    "# Set the variable called greet_name so that it concatenates the first two variables \n",
    "# greeting, name, with a space \" \" between them.\n",
    "\n",
    "greeting = \"Hello\"\n",
    "name = \"Daniel\"\n",
    "greet_name = None\n",
    "\n",
    "greet_name = f'{greeting}, {name}!'\n",
    "print(greet_name)"
   ]
  },
  {
   "cell_type": "code",
   "execution_count": null,
   "metadata": {},
   "outputs": [],
   "source": []
  },
  {
   "cell_type": "markdown",
   "metadata": {},
   "source": [
    "## Coding Exercise 7: Formatting Strings"
   ]
  },
  {
   "cell_type": "markdown",
   "metadata": {},
   "source": [
    "[ This exercise is way too easy, skip it ]"
   ]
  },
  {
   "cell_type": "markdown",
   "metadata": {},
   "source": [
    "## Coding Exercise 8: Lucky Number 7"
   ]
  },
  {
   "cell_type": "code",
   "execution_count": null,
   "metadata": {},
   "outputs": [],
   "source": []
  },
  {
   "cell_type": "markdown",
   "metadata": {},
   "source": [
    "## Coding Exercise 9: Way too easy"
   ]
  },
  {
   "cell_type": "code",
   "execution_count": null,
   "metadata": {},
   "outputs": [],
   "source": []
  },
  {
   "cell_type": "markdown",
   "metadata": {},
   "source": [
    "## Coding Exercise 10: Food Classification"
   ]
  },
  {
   "cell_type": "markdown",
   "metadata": {},
   "source": [
    "When the code is run through the interpreter, ensure the food variable is randomly assigned to one of the following: 'apple','grape', 'celery', 'carrot', 'worm', 'cockroach'. Your task is to write code that will classify what the food type is.\n",
    "* If food is set to either 'apple' or 'grape', your code should print 'fruit'\n",
    "* If food is set to either 'celery' or 'carrot', your code should print 'vegetable'\n",
    "* If food is set to either 'cockroach' or 'worm', your code should print 'protein'"
   ]
  },
  {
   "cell_type": "code",
   "execution_count": 106,
   "metadata": {},
   "outputs": [
    {
     "name": "stdout",
     "output_type": "stream",
     "text": [
      "carrot\n",
      "It's a fruit.\n"
     ]
    }
   ],
   "source": [
    "from random import choice\n",
    "food = choice(['apple','grape', 'celery', 'carrot', 'worm', 'cockroach'])\n",
    "print(food)\n",
    "if \"apple\" or \"grape\" in food:\n",
    "    print(\"It's a fruit.\")\n",
    "elif 'celery' or 'carrot' in food:\n",
    "    print(\"It's a vegetable.\")\n",
    "elif 'worm' or 'cockroach' in food:\n",
    "    print(\"It's protein.\")"
   ]
  },
  {
   "cell_type": "code",
   "execution_count": 101,
   "metadata": {},
   "outputs": [
    {
     "name": "stdout",
     "output_type": "stream",
     "text": [
      "apple\n",
      "It's a fruit.\n"
     ]
    }
   ],
   "source": [
    "from random import choice\n",
    "food = choice(['apple','grape', 'celery', 'carrot', 'worm', 'cockroach'])\n",
    "print(food)\n",
    "if food == \"apple\" or \"grape\":\n",
    "    print(\"It's a fruit.\")\n",
    "elif food ==  'celery' or 'carrot':\n",
    "    print(\"It's a vegetable.\")\n",
    "elif food == 'worm' or 'cockroach':\n",
    "    print(\"It's protein.\")"
   ]
  },
  {
   "cell_type": "markdown",
   "metadata": {},
   "source": [
    "With help from Ichabod on Python-Forum.io, I won!!\n",
    "https://python-forum.io/Thread-Conditional-not-processing-as-intended-Colt-Steele%E2%80%99s-Udemy-course\n"
   ]
  },
  {
   "cell_type": "code",
   "execution_count": 112,
   "metadata": {},
   "outputs": [
    {
     "name": "stdout",
     "output_type": "stream",
     "text": [
      "cockroach\n",
      "It's protein.\n"
     ]
    }
   ],
   "source": [
    "from random import choice\n",
    "food = choice(['apple','grape', 'celery', 'carrot', 'worm', 'cockroach'])\n",
    "print(food)\n",
    "if food in (\"apple\",\"grape\"):\n",
    "    print(\"It's a fruit.\")\n",
    "elif food in ('celery','carrot'):\n",
    "    print(\"It's a vegetable.\")\n",
    "elif food in ('worm','cockroach'):\n",
    "    print(\"It's protein.\")"
   ]
  },
  {
   "cell_type": "code",
   "execution_count": null,
   "metadata": {},
   "outputs": [],
   "source": []
  },
  {
   "cell_type": "code",
   "execution_count": null,
   "metadata": {},
   "outputs": [],
   "source": []
  },
  {
   "cell_type": "code",
   "execution_count": null,
   "metadata": {},
   "outputs": [],
   "source": []
  },
  {
   "cell_type": "code",
   "execution_count": null,
   "metadata": {},
   "outputs": [],
   "source": []
  },
  {
   "cell_type": "code",
   "execution_count": null,
   "metadata": {},
   "outputs": [],
   "source": []
  },
  {
   "cell_type": "code",
   "execution_count": null,
   "metadata": {},
   "outputs": [],
   "source": []
  },
  {
   "cell_type": "markdown",
   "metadata": {},
   "source": [
    "## Coding Exercise 11: Positive or Negative Checking"
   ]
  },
  {
   "cell_type": "markdown",
   "metadata": {},
   "source": [
    "In this exercise `x` and `y` are two random variables. The code at the top of the fil randomly assigns them.\n",
    "1. If both are positive numbers, print: \"both positive\"\n",
    "2. If both are negative, print \"both negative\"\n",
    "3. Otherwise, tell us which one is positive and which one is negative, e.g.: \"x is positive and y is negative\""
   ]
  },
  {
   "cell_type": "code",
   "execution_count": 19,
   "metadata": {},
   "outputs": [
    {
     "name": "stdout",
     "output_type": "stream",
     "text": [
      "Check: x is 64\n",
      "Check: y is -56\n",
      "x is positive and y is negative\n"
     ]
    }
   ],
   "source": [
    "from random import randint                           \n",
    "\n",
    "x = randint(-100, 100)                               \n",
    "# while x == 0:  # make sure x isn't zero              \n",
    "#    x = randint(-100, 100)                           \n",
    "print(f\"Check: x is {x}\")\n",
    "y = randint(-100, 100)                               \n",
    "print(f'Check: y is {y}')\n",
    "# while y == 0:  # make sure y isn't zero              \n",
    "#    y = randint(-100, 100)      \n",
    "\n",
    "if x > 0 and y > 0:\n",
    "    print(\"both positive\")\n",
    "\n",
    "if x < 0 and y < 0:\n",
    "    print(\"both negative\")\n",
    "\n",
    "if x > 0 and y < 0:\n",
    "    print(\"x is positive and y is negative\")\n",
    "\n",
    "if x < 0 and y > 0:\n",
    "    print(\"y is positive and x is negative\")"
   ]
  },
  {
   "cell_type": "code",
   "execution_count": null,
   "metadata": {},
   "outputs": [],
   "source": []
  },
  {
   "cell_type": "markdown",
   "metadata": {},
   "source": [
    "## Coding Exercise 12: Calling in Sick"
   ]
  },
  {
   "cell_type": "markdown",
   "metadata": {},
   "source": [
    "In this exercise you will be given a few variables that will be set randomly to Boolean values (True or False).\n",
    "* 'actually sick' - - when you legitiamtely have the flu\n",
    "* 'kinda_sick' - - when you're feeling under the weather and it's enough to treat yourself with a day off if you can spare it\n",
    "* 'hate_your_job' - - work sucks, I know...\n",
    "\n",
    "You're also give a random number of sick days betweren 0 and 10.\n",
    "\n",
    "Finally, there is a variable called 'calling_in_sick' that you must set to *True* or *False* based on the following scenarios:\n",
    "\n",
    "Set to True if:\n",
    "\n",
    "* you're 'actually_sick' and you have 'sick_days' remaining\n",
    "* you're 'kinda_sick' and 'hate_your_job' and you have 'sick_days' remaining\n",
    "Otherwise, set to *False*.\n",
    "The tests check that the value of 'calling_in_sick' is correct based on the conditions specified above"
   ]
  },
  {
   "cell_type": "code",
   "execution_count": 11,
   "metadata": {},
   "outputs": [],
   "source": [
    "from random import choice, randint\n",
    "\n",
    "# randomly assigns values to these four variables:\n",
    "actually_sick = choice([True, False])\n",
    "kinda_sick = choice([True, False])\n",
    "hate_your_job = choice([True, False])\n",
    "sick_days = randint(0, 10)\n",
    "\n",
    "calling_in_sick = None  # set this to True or False with Boolean Logic and Conditionals!\n",
    "\n"
   ]
  },
  {
   "cell_type": "markdown",
   "metadata": {},
   "source": [
    "# I DON'T UNDERSTAND THE EXERCISE ABOVE. SO PASS"
   ]
  },
  {
   "cell_type": "code",
   "execution_count": null,
   "metadata": {},
   "outputs": [],
   "source": []
  },
  {
   "cell_type": "code",
   "execution_count": null,
   "metadata": {},
   "outputs": [],
   "source": []
  }
 ],
 "metadata": {
  "kernelspec": {
   "display_name": "Python 3",
   "language": "python",
   "name": "python3"
  },
  "language_info": {
   "codemirror_mode": {
    "name": "ipython",
    "version": 3
   },
   "file_extension": ".py",
   "mimetype": "text/x-python",
   "name": "python",
   "nbconvert_exporter": "python",
   "pygments_lexer": "ipython3",
   "version": "3.7.4"
  }
 },
 "nbformat": 4,
 "nbformat_minor": 2
}
