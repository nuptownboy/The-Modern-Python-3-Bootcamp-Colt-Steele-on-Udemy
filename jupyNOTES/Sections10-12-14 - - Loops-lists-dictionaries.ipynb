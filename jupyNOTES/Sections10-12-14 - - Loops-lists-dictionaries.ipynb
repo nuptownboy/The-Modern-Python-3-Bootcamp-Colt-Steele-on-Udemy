{
 "cells": [
  {
   "cell_type": "code",
   "execution_count": null,
   "metadata": {},
   "outputs": [],
   "source": []
  },
  {
   "cell_type": "code",
   "execution_count": null,
   "metadata": {},
   "outputs": [],
   "source": []
  },
  {
   "cell_type": "markdown",
   "metadata": {},
   "source": [
    "## Coding Exercise 13: For Loop"
   ]
  },
  {
   "cell_type": "markdown",
   "metadata": {},
   "source": [
    "Use a for loop to add up every odd number from 10 to 20 (inclusive) and store the result in the variable `x`. "
   ]
  },
  {
   "cell_type": "code",
   "execution_count": 9,
   "metadata": {},
   "outputs": [
    {
     "name": "stdout",
     "output_type": "stream",
     "text": [
      "75\n"
     ]
    }
   ],
   "source": [
    "x = 0\n",
    "\n",
    "for num in range(10,21):\n",
    "    if num % 2 != 0: \n",
    "        x = x + num\n",
    "    else:\n",
    "        pass\n",
    "print(x)\n",
    "    "
   ]
  },
  {
   "cell_type": "markdown",
   "metadata": {},
   "source": [
    "## I DID IT! SUCCESS!"
   ]
  },
  {
   "cell_type": "markdown",
   "metadata": {},
   "source": [
    "## Coding Exercise 14: While Loop Exercise"
   ]
  },
  {
   "cell_type": "markdown",
   "metadata": {},
   "source": [
    "I don't understand this exercise."
   ]
  },
  {
   "cell_type": "code",
   "execution_count": null,
   "metadata": {},
   "outputs": [],
   "source": []
  },
  {
   "cell_type": "markdown",
   "metadata": {},
   "source": [
    "## Coding Exercise 15: Creating Lists"
   ]
  },
  {
   "cell_type": "markdown",
   "metadata": {},
   "source": [
    "Define two separate lists:\n",
    "1. First define a list called `my_stuff`. It must be at least 4 elements long. The data is completely up to you, but it must contain at least 1 string and 1 float.\n",
    "2. Next, define a lsit called `nums`. It should be a list containing all the numebr sbetween 1 and 99 (including 99). Don't type this out manually, Use what we learned at the end of the previous video!"
   ]
  },
  {
   "cell_type": "code",
   "execution_count": 28,
   "metadata": {},
   "outputs": [
    {
     "data": {
      "text/plain": [
       "3.142857142857143"
      ]
     },
     "execution_count": 28,
     "metadata": {},
     "output_type": "execute_result"
    }
   ],
   "source": [
    "my_stuff = ['The project', 27.9, None, 22/7,]\n",
    "my_stuff[3]\n"
   ]
  },
  {
   "cell_type": "code",
   "execution_count": 30,
   "metadata": {},
   "outputs": [
    {
     "name": "stdout",
     "output_type": "stream",
     "text": [
      "[25, 71, 85, 54, 66, 69, 15, 34, 44, 7, 77, 17, 12, 73, 68, 18, 63, 27, 87, 33, 50, 70, 19, 12, 89, 37, 97, 17, 97, 73, 15, 71, 14, 63, 26, 82, 63, 89, 6, 70, 56, 88, 35, 39, 83, 38, 11, 25, 14, 25, 24, 87, 31, 96, 30, 51, 20, 86, 7, 15, 43, 11, 59, 51, 92, 81, 42, 68, 81, 24, 5, 75, 19, 47, 51, 53, 81, 36, 30, 4, 62, 82, 45, 39, 27, 26, 60, 39, 84, 66, 71, 44, 65, 13, 24, 63, 17, 37, 25, 50]\n"
     ]
    }
   ],
   "source": [
    "import random\n",
    "nums = [random.randint(0,100) for i in range(100)]\n",
    "print(nums)"
   ]
  },
  {
   "cell_type": "code",
   "execution_count": 37,
   "metadata": {},
   "outputs": [
    {
     "ename": "TypeError",
     "evalue": "'int' object is not iterable",
     "output_type": "error",
     "traceback": [
      "\u001b[0;31m---------------------------------------------------------------------------\u001b[0m",
      "\u001b[0;31mTypeError\u001b[0m                                 Traceback (most recent call last)",
      "\u001b[0;32m<ipython-input-37-a7f2b1bd7db2>\u001b[0m in \u001b[0;36m<module>\u001b[0;34m\u001b[0m\n\u001b[1;32m      4\u001b[0m \u001b[0;32mfor\u001b[0m \u001b[0mi\u001b[0m \u001b[0;32min\u001b[0m \u001b[0mrange\u001b[0m\u001b[0;34m(\u001b[0m\u001b[0;36m100\u001b[0m\u001b[0;34m)\u001b[0m\u001b[0;34m:\u001b[0m\u001b[0;34m\u001b[0m\u001b[0;34m\u001b[0m\u001b[0m\n\u001b[1;32m      5\u001b[0m     \u001b[0mi\u001b[0m \u001b[0;34m=\u001b[0m \u001b[0mrandint\u001b[0m\u001b[0;34m(\u001b[0m\u001b[0;36m0\u001b[0m\u001b[0;34m,\u001b[0m\u001b[0;36m100\u001b[0m\u001b[0;34m)\u001b[0m\u001b[0;34m\u001b[0m\u001b[0;34m\u001b[0m\u001b[0m\n\u001b[0;32m----> 6\u001b[0;31m     \u001b[0mnums\u001b[0m \u001b[0;34m+=\u001b[0m \u001b[0mi\u001b[0m\u001b[0;34m\u001b[0m\u001b[0;34m\u001b[0m\u001b[0m\n\u001b[0m\u001b[1;32m      7\u001b[0m \u001b[0mprint\u001b[0m\u001b[0;34m(\u001b[0m\u001b[0mnums\u001b[0m\u001b[0;34m)\u001b[0m\u001b[0;34m\u001b[0m\u001b[0;34m\u001b[0m\u001b[0m\n",
      "\u001b[0;31mTypeError\u001b[0m: 'int' object is not iterable"
     ]
    }
   ],
   "source": [
    "from random import randint\n",
    "\n",
    "nums = []\n",
    "for i in range(100):    \n",
    "    i = randint(0,100)  \n",
    "    nums += i  \n",
    "print(nums)"
   ]
  },
  {
   "cell_type": "code",
   "execution_count": null,
   "metadata": {},
   "outputs": [],
   "source": []
  },
  {
   "cell_type": "code",
   "execution_count": 183,
   "metadata": {},
   "outputs": [
    {
     "name": "stdout",
     "output_type": "stream",
     "text": [
      "59508\n"
     ]
    }
   ],
   "source": [
    "import random\n",
    "\n",
    "for i in range(100):\n",
    "    nums = nums + random.randint(0,100)\n",
    "print(nums)\n"
   ]
  },
  {
   "cell_type": "code",
   "execution_count": null,
   "metadata": {},
   "outputs": [],
   "source": []
  },
  {
   "cell_type": "code",
   "execution_count": null,
   "metadata": {},
   "outputs": [],
   "source": []
  },
  {
   "cell_type": "code",
   "execution_count": null,
   "metadata": {},
   "outputs": [],
   "source": []
  },
  {
   "cell_type": "code",
   "execution_count": null,
   "metadata": {},
   "outputs": [],
   "source": []
  },
  {
   "cell_type": "code",
   "execution_count": null,
   "metadata": {},
   "outputs": [],
   "source": []
  },
  {
   "cell_type": "markdown",
   "metadata": {},
   "source": [
    "## Coding Exercise 16: Accessing List Data\n",
    "I'm having a party. I made a list of the people I want to invite. Although I accidentally spelled their names wrong. Make the corrections using indexing, slicing and other means:\n",
    "* Change \"Hanna\" to \"Hannah\" (add an 'h' at the end)\n",
    "* Change \"Geoffrey\" to \"Jeffrey\"\n",
    "* Change \"aparna\" to Aparna (capitalize first character)"
   ]
  },
  {
   "cell_type": "code",
   "execution_count": 11,
   "metadata": {},
   "outputs": [],
   "source": [
    "people = [\"Hanna\",\"Louisa\",\"Claudia\", \"Angela\",\"Geoffrey\", \"aparna\"]"
   ]
  },
  {
   "cell_type": "code",
   "execution_count": 46,
   "metadata": {},
   "outputs": [
    {
     "name": "stdout",
     "output_type": "stream",
     "text": [
      "Hsasnsnsa\n"
     ]
    }
   ],
   "source": [
    "people = [\"Hanna\",\"Louisa\",\"Claudia\", \"Angela\",\"Geoffrey\", \"aparna\"]\n",
    "corrected = \"s\".join(people[0])\n",
    "print(corrected)"
   ]
  },
  {
   "cell_type": "code",
   "execution_count": 65,
   "metadata": {},
   "outputs": [
    {
     "name": "stdout",
     "output_type": "stream",
     "text": [
      "['Hanna', 'Louisa', 'Claudia', 'Angela', 'Geoffrey', 'aparna']\n",
      "['Hannah', 'Louisa', 'Claudia', 'Angela', 'Geoffrey', 'aparna']\n",
      "['Hannah', 'Louisa', 'Claudia', 'Angela', 'Jeffrey', 'aparna']\n",
      "['Hannah', 'Louisa', 'Claudia', 'Angela', 'Jeffrey', 'Aparna']\n"
     ]
    }
   ],
   "source": [
    "people = [\"Hanna\",\"Louisa\",\"Claudia\", \"Angela\",\"Geoffrey\", \"aparna\"]\n",
    "print(people)\n",
    "people[0] = \"Hannah\"\n",
    "print(people)\n",
    "people[4] = \"Jeffrey\"\n",
    "print(people)\n",
    "final_name = people.pop(-1).capitalize()\n",
    "# print(final_name)\n",
    "people.append(final_name)\n",
    "print(people)"
   ]
  },
  {
   "cell_type": "markdown",
   "metadata": {},
   "source": [
    "## I DID IT! SUCCESS!"
   ]
  },
  {
   "cell_type": "markdown",
   "metadata": {},
   "source": [
    "## Coding Exercise 17: List Iteration"
   ]
  },
  {
   "cell_type": "markdown",
   "metadata": {},
   "source": [
    "Given a list called `sounds`:\n",
    "* Write code that loops over the list and adds all the strings together to form one large combined string (don't add any spaces between them)\n",
    "* The combined string should be in all UPPERCASE as well\n",
    "* Save the result in a variable called `result`"
   ]
  },
  {
   "cell_type": "code",
   "execution_count": 70,
   "metadata": {},
   "outputs": [
    {
     "name": "stdout",
     "output_type": "stream",
     "text": [
      "SUPERCALIFRAGILISTICEXPIALIDOCIOUS\n"
     ]
    }
   ],
   "source": [
    "sounds = [\"super\", \"cali\", \"fragil\", \"istic\", \"expi\", \"ali\", \"docious\"]\n",
    "result = \"\".join(sounds)\n",
    "print(result.upper())"
   ]
  },
  {
   "cell_type": "markdown",
   "metadata": {},
   "source": [
    "## I DID IT! SUCCESS!"
   ]
  },
  {
   "cell_type": "code",
   "execution_count": 169,
   "metadata": {},
   "outputs": [
    {
     "name": "stdout",
     "output_type": "stream",
     "text": [
      "SUPER CALI FRAGIL ISTIC EXPI ALI DOCIOUS \n"
     ]
    }
   ],
   "source": [
    "lyric = [\"super\", \"cali\", \"fragil\", \"istic\", \"expi\", \"ali\", \"docious\"]\n",
    "result = ''\n",
    "for element in lyric:\n",
    "    result = result + element + \" \"\n",
    "print(result.upper())\n",
    "    \n"
   ]
  },
  {
   "cell_type": "markdown",
   "metadata": {},
   "source": [
    "## This was the instructor's solution"
   ]
  },
  {
   "cell_type": "markdown",
   "metadata": {},
   "source": [
    "## Coding Exercise 18: Lists Basics Exercise"
   ]
  },
  {
   "cell_type": "code",
   "execution_count": 98,
   "metadata": {},
   "outputs": [
    {
     "name": "stdout",
     "output_type": "stream",
     "text": [
      "['COLT']\n",
      "['COLT', 'BLUE', 'LISA']\n"
     ]
    }
   ],
   "source": [
    "    # Create a list called instructors\n",
    "\n",
    "instructors = []\n",
    "\n",
    "    # Add the following strings to the instructors list \n",
    "\n",
    "    # \"Colt\"\n",
    "instructors.insert(0,\"COLT\")\n",
    "print(instructors)\n",
    "\n",
    "    # \"Blue\"\n",
    "instructors.extend([\"BLUE\"])\n",
    "\n",
    "    # \"Lisa\"\n",
    "instructors.extend([\"LISA\"])\n",
    "\n",
    "    # Run the tests to make sure you've done this correctly!\n",
    "print(instructors)"
   ]
  },
  {
   "cell_type": "markdown",
   "metadata": {},
   "source": [
    "## I DID IT! SUCCESS!"
   ]
  },
  {
   "cell_type": "code",
   "execution_count": null,
   "metadata": {},
   "outputs": [],
   "source": []
  },
  {
   "cell_type": "markdown",
   "metadata": {},
   "source": [
    "## Coding Exercise 19: Lists Methods"
   ]
  },
  {
   "cell_type": "code",
   "execution_count": 103,
   "metadata": {},
   "outputs": [
    {
     "name": "stdout",
     "output_type": "stream",
     "text": [
      "['COLT', 'BLUE']\n",
      "['BLUE']\n",
      "['Done', 'BLUE']\n"
     ]
    }
   ],
   "source": [
    "# Create a list called instructors\n",
    "instructors = []\n",
    "\n",
    "# Add the following strings to the instructors list \n",
    "    # \"Colt\"\n",
    "    # \"Blue\"\n",
    "    # \"Lisa\"\n",
    "instructors.extend(['COLT', 'BLUE', 'LISA'])\n",
    "# Remove the last value in the list\n",
    "instructors.pop()\n",
    "print(instructors)\n",
    "\n",
    "# Remove the first value in the list\n",
    "instructors.pop(0)\n",
    "print(instructors)\n",
    "\n",
    "# Add the string \"Done\" to the beginning of the list\n",
    "instructors.insert(0, \"Done\")\n",
    "print(instructors)\n",
    "\n",
    "# Run the tests to make sure you've done this correctly!\n",
    "\n"
   ]
  },
  {
   "cell_type": "markdown",
   "metadata": {},
   "source": [
    "## I DID IT! SUCCESS!\n"
   ]
  },
  {
   "cell_type": "markdown",
   "metadata": {},
   "source": [
    "## Coding Exercise 26: Dictionary Creation"
   ]
  },
  {
   "cell_type": "markdown",
   "metadata": {},
   "source": [
    "[ too easy ] "
   ]
  },
  {
   "cell_type": "markdown",
   "metadata": {},
   "source": [
    "## Coding Exercise 27: Access Data in a Dictionary"
   ]
  },
  {
   "cell_type": "markdown",
   "metadata": {},
   "source": [
    "Given a dictionary, declare a variable valled `full_name` that is equal to artist's `first` and `last` names with a space in between. You must reference the values associated with those keys in the artist dictionary."
   ]
  },
  {
   "cell_type": "code",
   "execution_count": 106,
   "metadata": {},
   "outputs": [
    {
     "name": "stdout",
     "output_type": "stream",
     "text": [
      "Neil Young\n"
     ]
    }
   ],
   "source": [
    "# The output of print(full_name) should be \"Neil Young\"\n",
    "\n",
    "artist = {\n",
    "    \"first\": \"Neil\",\n",
    "    \"last\": \"Young\",\n",
    "}\n",
    "\n",
    "print(f'{artist[\"first\"]} {artist[\"last\"]}')"
   ]
  },
  {
   "cell_type": "markdown",
   "metadata": {},
   "source": [
    "## I DID IT! SUCCESS!"
   ]
  },
  {
   "cell_type": "code",
   "execution_count": null,
   "metadata": {},
   "outputs": [],
   "source": []
  },
  {
   "cell_type": "code",
   "execution_count": null,
   "metadata": {},
   "outputs": [],
   "source": []
  },
  {
   "cell_type": "markdown",
   "metadata": {},
   "source": [
    "## Coding Exercise 28: Totally Donations"
   ]
  },
  {
   "cell_type": "markdown",
   "metadata": {},
   "source": [
    "With the dictionary variable provided, use a loop to calculate the total value of the donations. Save the result to a variable called `total_donations`."
   ]
  },
  {
   "cell_type": "code",
   "execution_count": 116,
   "metadata": {},
   "outputs": [
    {
     "name": "stdout",
     "output_type": "stream",
     "text": [
      "25.0\n",
      "113.99\n",
      "126.99\n",
      "226.49\n",
      "376.49\n",
      "426.74\n",
      "436.74\n"
     ]
    }
   ],
   "source": [
    "donations = dict(sam=25.0, lena=88.99, chuck=13.0, linus=99.5, stan=150.0, lisa=50.25, harrison=10.0)\n",
    "\n",
    "# Use a loop to add together all the donations and store the resulting number \n",
    "# in a variable called total_donations\n",
    "total_donations = 0.0\n",
    "for v in donations.values():\n",
    "    total_donations += v\n",
    "    print(total_donations)"
   ]
  },
  {
   "cell_type": "markdown",
   "metadata": {},
   "source": [
    "## I DID IT! SUCCESS!"
   ]
  },
  {
   "cell_type": "code",
   "execution_count": null,
   "metadata": {},
   "outputs": [],
   "source": []
  },
  {
   "cell_type": "markdown",
   "metadata": {},
   "source": [
    "## Coding Exercise 29: Dictionary Access"
   ]
  },
  {
   "cell_type": "markdown",
   "metadata": {},
   "source": [
    "* The `food` variable will store a randomly chosen food string like 'gummy bear' or 'morning bun'. Some of these items are in the `bakery_inventory` dictionary (and some are not).\n",
    "* Your task is to simply print out a string depending on if `food` is value in `bakery_inventory`. If `food` is contained in `bakery_inventory`, print out a string that states how many items are left. Make the script print \"3 remaining\" if food is \"toffee cookie\" or \"1 remaining\" if food is \"morning bun\", etc.\n",
    "* If food is not contained in `bakery_inventory`  like \"gummy bear\", print out: \"We don't make that\"\n"
   ]
  },
  {
   "cell_type": "code",
   "execution_count": 167,
   "metadata": {},
   "outputs": [
    {
     "name": "stdout",
     "output_type": "stream",
     "text": [
      "tea cake\n",
      "Sorry, none of those are in stock.\n",
      "tea cake\n",
      "Sorry, none of those are in stock.\n",
      "tea cake\n",
      "Sorry, none of those are in stock.\n",
      "tea cake\n",
      "Sorry, none of those are in stock.\n",
      "tea cake\n",
      "Yup, we have some in stock. There are 25 remaining.\n"
     ]
    }
   ],
   "source": [
    "from random import choice \n",
    "food = choice([\"cheese pizza\", \"quiche\",\"chocolate chunk cookie\",\"gummy bear\",\"tea cake\"])\n",
    "\n",
    "bakery_inventory = {\n",
    "    \"almond croissant\" : 12,\n",
    "    \"toffee cookie\": 3,\n",
    "    \"morning bun\": 1,\n",
    "    \"chocolate chunk cookie\": 9,\n",
    "    \"tea cake\": 25\n",
    "}\n",
    "\n",
    "for key, value in bakery_inventory.items():\n",
    "    if food in key:\n",
    "        print(food)\n",
    "        print(f\"Yup, we have some in stock. There are {value} remaining.\")\n",
    "    if food not in key:\n",
    "        print(food)\n",
    "        print(\"Sorry, none of those are in stock.\")"
   ]
  },
  {
   "cell_type": "markdown",
   "metadata": {},
   "source": [
    "## I FAILED =/  THE ABOVE WAS MY VALIANT ATTEMPT. BELOW IS THE INSTRUCTOR'S SOLUTION. I WAS PRETTY CLOSE."
   ]
  },
  {
   "cell_type": "code",
   "execution_count": 159,
   "metadata": {},
   "outputs": [
    {
     "name": "stdout",
     "output_type": "stream",
     "text": [
      "25 remaining\n"
     ]
    }
   ],
   "source": [
    "from random import choice \n",
    "food = choice([\"cheese pizza\", \"quiche\",\"chocolate chunk cookie\",\"gummy bear\",\"tea cake\"])\n",
    "\n",
    "bakery_inventory = {\n",
    "    \"almond croissant\" : 12,\n",
    "    \"toffee cookie\": 3,\n",
    "    \"morning bun\": 1,\n",
    "    \"chocolate chunk cookie\": 9,\n",
    "    \"tea cake\": 25\n",
    "}\n",
    "\n",
    "if food in bakery_inventory:\n",
    "    print(f\"{bakery_inventory[food]} remaining\")\n",
    "else:\n",
    "    print(\"We don't make that\")\n"
   ]
  },
  {
   "cell_type": "code",
   "execution_count": null,
   "metadata": {},
   "outputs": [],
   "source": []
  },
  {
   "cell_type": "markdown",
   "metadata": {},
   "source": [
    "## Coding Exercise 30: Fromkeys"
   ]
  },
  {
   "cell_type": "markdown",
   "metadata": {},
   "source": [
    "Imagine we're creating a video game and want to model the initial starting-state of our game. I've provided you with a list of strings called, `game_properties`.\n",
    "* Use `dict.fromkeys` to generate a new dictionary using the provided `game_properties` list. Initialize all values to `0`.\n",
    "* Save the result in avariable called, `initial_game_state`\n",
    "\n",
    "For a HINT for what the end result should look like this, refer to this Exercise as it appears in Udemy course for this Coding Exercise (30)."
   ]
  },
  {
   "cell_type": "code",
   "execution_count": 194,
   "metadata": {},
   "outputs": [
    {
     "name": "stdout",
     "output_type": "stream",
     "text": [
      "{'current_score': 0, 'high_score': 0, 'number_of_lives': 0, 'items_in_inventory': 0, 'power_ups': 0, 'ammo': 0, 'enemies_on_screen': 0, 'enemy_kills': 0, 'enemy_kill_streaks': 0, 'minutes_played': 0, 'notifications': 0, 'achievements': 0}\n"
     ]
    }
   ],
   "source": [
    "game_properties = [\n",
    "    \"current_score\", \n",
    "    \"high_score\", \n",
    "    \"number_of_lives\",\n",
    "    \"items_in_inventory\", \n",
    "    \"power_ups\", \n",
    "    \"ammo\", \n",
    "    \"enemies_on_screen\", \n",
    "    \"enemy_kills\", \n",
    "    \"enemy_kill_streaks\", \n",
    "    \"minutes_played\", \n",
    "    \"notifications\", \n",
    "    \"achievements\"\n",
    "] \n",
    "\n",
    "# Use the game_properties list and dict.fromkeys() to generate a dictionary with\n",
    "# all values set to 0. Save the result to a variable called initial_game_state\n",
    "\n",
    "initial_game_state = {}.fromkeys(game_properties, 0)\n",
    "print(initial_game_state)"
   ]
  },
  {
   "cell_type": "markdown",
   "metadata": {},
   "source": [
    "## I DID IT! SUCCESS!"
   ]
  },
  {
   "cell_type": "markdown",
   "metadata": {},
   "source": [
    "## Coding Exercise 31: Dictionary Methods"
   ]
  },
  {
   "cell_type": "code",
   "execution_count": 201,
   "metadata": {},
   "outputs": [
    {
     "name": "stdout",
     "output_type": "stream",
     "text": [
      "{'croissant': 19, 'bagel': 4, 'muffin': 8, 'cake': 1}\n",
      "{'croissant': 19, 'bagel': 4, 'muffin': 8, 'cake': 1, 'cookie': 18}\n",
      "{'croissant': 19, 'bagel': 4, 'muffin': 8, 'cookie': 18}\n"
     ]
    }
   ],
   "source": [
    "inventory = {'croissant': 19, 'bagel': 4, 'muffin': 8, 'cake': 1} \n",
    "\n",
    "# Make a copy of inventory and save it to a variable called stock_list \n",
    "# USE A DICTIONARY METHOD\n",
    "\n",
    "stock_list = inventory.copy()\n",
    "print(stock_list)\n",
    "\n",
    "# add the value 18 to stock_list under the key \"cookie\"\n",
    "\n",
    "stock_list[\"cookie\"] = 18\n",
    "print(stock_list)\n",
    "\n",
    "# remove 'cake' from stock_list USE A DICTIONARY METHOD\n",
    "\n",
    "stock_list.pop(\"cake\")\n",
    "print(stock_list)"
   ]
  },
  {
   "cell_type": "markdown",
   "metadata": {},
   "source": [
    "## I DID IT! SUCCESS!"
   ]
  },
  {
   "cell_type": "code",
   "execution_count": null,
   "metadata": {},
   "outputs": [],
   "source": []
  },
  {
   "cell_type": "code",
   "execution_count": null,
   "metadata": {},
   "outputs": [],
   "source": []
  },
  {
   "cell_type": "code",
   "execution_count": null,
   "metadata": {},
   "outputs": [],
   "source": []
  },
  {
   "cell_type": "code",
   "execution_count": null,
   "metadata": {},
   "outputs": [],
   "source": []
  },
  {
   "cell_type": "code",
   "execution_count": null,
   "metadata": {},
   "outputs": [],
   "source": []
  }
 ],
 "metadata": {
  "kernelspec": {
   "display_name": "Python 3",
   "language": "python",
   "name": "python3"
  },
  "language_info": {
   "codemirror_mode": {
    "name": "ipython",
    "version": 3
   },
   "file_extension": ".py",
   "mimetype": "text/x-python",
   "name": "python",
   "nbconvert_exporter": "python",
   "pygments_lexer": "ipython3",
   "version": "3.7.4"
  }
 },
 "nbformat": 4,
 "nbformat_minor": 2
}
