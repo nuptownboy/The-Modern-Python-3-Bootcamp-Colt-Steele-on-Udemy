{
 "cells": [
  {
   "cell_type": "markdown",
   "metadata": {},
   "source": [
    "# List comprehension practice"
   ]
  },
  {
   "cell_type": "markdown",
   "metadata": {},
   "source": [
    "### For my reference\n",
    "\n",
    "Authored by me:\n",
    "\n",
    "* https://python-forum.io/Thread-Creating-list-out-of-the-first-letter-of-every-word-in-a-string\n",
    "* https://stackoverflow.com/questions/56436291/filtering-stop-words-out-of-a-large-text-file-using-package-nltk-corpus \n",
    "\n",
    "Authored by other people:  \n",
    "* https://python-forum.io/Thread-question-about-list-comprehension--20612\n",
    "\n",
    "* https://www.science-emergence.com/Articles/How-to-create-a-list-of-random-integers-in-python-/"
   ]
  },
  {
   "cell_type": "markdown",
   "metadata": {},
   "source": [
    "What follows is a regular for loop annotated by `volcano63` from Python forum here: https://python-forum.io/Thread-Creating-list-out-of-the-first-letter-of-every-word-in-a-string?pid=59920#pid59920\n",
    "\n",
    "This for loop says: for every number in a given list of numbers, if the number is divisible by 2 without a repender, append the number to the `evens` variable."
   ]
  },
  {
   "cell_type": "code",
   "execution_count": 25,
   "metadata": {},
   "outputs": [
    {
     "name": "stdout",
     "output_type": "stream",
     "text": [
      "[2, 4, 78]\n"
     ]
    }
   ],
   "source": [
    "num_list = [2,3,4,5,78,89,]\n",
    "evens = []\n",
    "for num in num_list: # <-- loop expression\n",
    "    if num % 2 == 0: # <-- condition (predicate)\n",
    "        evens.append(num) # <-- appended value\n",
    "print(evens)"
   ]
  },
  {
   "cell_type": "markdown",
   "metadata": {},
   "source": [
    "With list comprehension (in multiline) format:"
   ]
  },
  {
   "cell_type": "code",
   "execution_count": 26,
   "metadata": {},
   "outputs": [
    {
     "name": "stdout",
     "output_type": "stream",
     "text": [
      "[2, 10, 22, 20]\n"
     ]
    }
   ],
   "source": [
    "num_list2 = [2, 10,19,22,20]\n",
    "evens = [\n",
    "num # <-- appended value\n",
    "for num in num_list2 # <-- loop expression\n",
    "    if num % 2 == 0 # <-- condition (predicate)\n",
    "]\n",
    "print(evens)"
   ]
  },
  {
   "cell_type": "markdown",
   "metadata": {},
   "source": [
    "With list comprehension in single line format:"
   ]
  },
  {
   "cell_type": "code",
   "execution_count": 27,
   "metadata": {},
   "outputs": [
    {
     "name": "stdout",
     "output_type": "stream",
     "text": [
      "[2, 10, 22, 20]\n"
     ]
    }
   ],
   "source": [
    "num_list2 = [2, 10,19,22,20]\n",
    "evens = [ num for num in num_list2 if num % 2 == 0 ]\n",
    "print(evens)"
   ]
  },
  {
   "cell_type": "markdown",
   "metadata": {},
   "source": [
    "In my own words, at line 2 (above here), pseudocode would be: `evens` is defined as: \"give me all the numbers for every number in `num_list2` but only if it is divisible by 2 without a remainder."
   ]
  },
  {
   "cell_type": "markdown",
   "metadata": {},
   "source": [
    "## ANOTHER EXAMPLE\n",
    "\n",
    "Originally from here: https://www.science-emergence.com/Articles/How-to-create-a-list-of-random-integers-in-python-/"
   ]
  },
  {
   "cell_type": "code",
   "execution_count": 28,
   "metadata": {},
   "outputs": [
    {
     "name": "stdout",
     "output_type": "stream",
     "text": [
      "[0, 9, 6, 9, 9]\n"
     ]
    }
   ],
   "source": [
    "import random\n",
    "l = [random.randint(0,10) for i in range(5)]\n",
    "print(l)"
   ]
  },
  {
   "cell_type": "markdown",
   "metadata": {},
   "source": [
    "My understanding is for the variable `l`, give me  a random integer between 0 and 9 for every integer within the range of 0 and 5."
   ]
  },
  {
   "cell_type": "markdown",
   "metadata": {},
   "source": [
    "Here is my attempt at remixing the above list comprehension into a regular for loop:"
   ]
  },
  {
   "cell_type": "code",
   "execution_count": 29,
   "metadata": {},
   "outputs": [
    {
     "name": "stdout",
     "output_type": "stream",
     "text": [
      "[6, 2, 4, 10, 9]\n"
     ]
    }
   ],
   "source": [
    "import random\n",
    "l2 = []\n",
    "for i in range(5):\n",
    "    i = random.randint(0,10)\n",
    "    l2.append(i)\n",
    "print(l2)"
   ]
  },
  {
   "cell_type": "markdown",
   "metadata": {},
   "source": [
    "## In pseudo code format (my owns words):\n",
    "`list2` is declared as an empty list. Then, for every integer within a random sequence of numbers (that are within the range of 0 and 5), generate a random number between 0 and 10. Then append each of those numbers to the list declared initially."
   ]
  },
  {
   "cell_type": "markdown",
   "metadata": {},
   "source": [
    "## Did I do it? Is the above correct?"
   ]
  },
  {
   "cell_type": "markdown",
   "metadata": {},
   "source": [
    "# ANOTHER EXMAPLE\n",
    "\n",
    "## From Colt Steele's Udemy course - - Section 13 titled: \"List Comprehension\""
   ]
  },
  {
   "cell_type": "markdown",
   "metadata": {},
   "source": [
    "Colt Steele starts off twith this example of a regular for loop:"
   ]
  },
  {
   "cell_type": "code",
   "execution_count": 30,
   "metadata": {},
   "outputs": [
    {
     "name": "stdout",
     "output_type": "stream",
     "text": [
      "[2, 4, 6, 8, 10]\n"
     ]
    }
   ],
   "source": [
    "numbers = [1,2,3,4,5]\n",
    "doubled_numbers = []\n",
    "\n",
    "for num in numbers:\n",
    "    doubled_number = num * 2\n",
    "    doubled_numbers.append(doubled_number)\n",
    "print(doubled_numbers)"
   ]
  },
  {
   "cell_type": "markdown",
   "metadata": {},
   "source": [
    "Colt Steele suggests this list comprehension as an alternative:"
   ]
  },
  {
   "cell_type": "code",
   "execution_count": 31,
   "metadata": {},
   "outputs": [
    {
     "name": "stdout",
     "output_type": "stream",
     "text": [
      "[2, 4, 6, 8, 10]\n"
     ]
    }
   ],
   "source": [
    "numbers = [1,2,3,4,5]\n",
    "doubled_numbers = [ num * 2 for num in numbers ]\n",
    "print(doubled_numbers)"
   ]
  },
  {
   "cell_type": "markdown",
   "metadata": {},
   "source": [
    "In my own words, here is the above list comprehsin example in pseudo code:\n",
    "For a variable called `doubled_numbers`, give me a number multiplied by two for every number contained inside the variable `numbers`. I suppose another way (that I came up with) of formatting this list comprehension is this:\n"
   ]
  },
  {
   "cell_type": "code",
   "execution_count": 32,
   "metadata": {},
   "outputs": [
    {
     "name": "stdout",
     "output_type": "stream",
     "text": [
      "[2, 4, 6, 8, 10]\n"
     ]
    }
   ],
   "source": [
    "doubled_numbers = [ num * 2 for num in [1,2,3,4,5] ]\n",
    "print(doubled_numbers)"
   ]
  },
  {
   "cell_type": "markdown",
   "metadata": {},
   "source": [
    "My pseudo code:\n",
    "For the variable `doubled_numbers`, give me a number mutiplied by 2 for every number as it appears in an ascending list of 1 through 5."
   ]
  },
  {
   "cell_type": "markdown",
   "metadata": {},
   "source": [
    "Then Colt (Udemy instructor) proceeds with a fresh example of list comprehension:"
   ]
  },
  {
   "cell_type": "code",
   "execution_count": 34,
   "metadata": {},
   "outputs": [
    {
     "name": "stdout",
     "output_type": "stream",
     "text": [
      "['N', 'E', 'B', 'U', 'C', 'H', 'A', 'D', 'N', 'E', 'Z', 'Z', 'A', 'R']\n"
     ]
    }
   ],
   "source": [
    "name = 'Nebuchadnezzar'\n",
    "print([char.upper() for char in name])"
   ]
  },
  {
   "cell_type": "markdown",
   "metadata": {},
   "source": [
    "My pseudo code:\n",
    "\n",
    "Give me the uppercase of every character for every character inside the name (which is a string) containing: 'Nebuchadnezzar'.\n",
    "\n",
    "# Is this correct?"
   ]
  },
  {
   "cell_type": "markdown",
   "metadata": {},
   "source": [
    "Here is the same output but using a regular for loop written by myself:"
   ]
  },
  {
   "cell_type": "code",
   "execution_count": 41,
   "metadata": {},
   "outputs": [
    {
     "name": "stdout",
     "output_type": "stream",
     "text": [
      "R\n"
     ]
    }
   ],
   "source": [
    "name = 'Nebuchadnezzar'\n",
    "new_name = []\n",
    "for char in name:\n",
    "    new_name = char.upper()\n",
    "    char + char  \n",
    "print(new_name)"
   ]
  },
  {
   "cell_type": "markdown",
   "metadata": {},
   "source": [
    "The above is my attempt which is obviously incorrect because the output is just `R` which does not match the expected out put."
   ]
  },
  {
   "cell_type": "code",
   "execution_count": null,
   "metadata": {},
   "outputs": [],
   "source": []
  },
  {
   "cell_type": "markdown",
   "metadata": {},
   "source": [
    "Colt continues the lesson on list comprehension with this example:"
   ]
  },
  {
   "cell_type": "code",
   "execution_count": null,
   "metadata": {},
   "outputs": [],
   "source": []
  },
  {
   "cell_type": "code",
   "execution_count": null,
   "metadata": {},
   "outputs": [],
   "source": []
  },
  {
   "cell_type": "code",
   "execution_count": null,
   "metadata": {},
   "outputs": [],
   "source": []
  },
  {
   "cell_type": "code",
   "execution_count": null,
   "metadata": {},
   "outputs": [],
   "source": []
  },
  {
   "cell_type": "code",
   "execution_count": null,
   "metadata": {},
   "outputs": [],
   "source": []
  },
  {
   "cell_type": "code",
   "execution_count": null,
   "metadata": {},
   "outputs": [],
   "source": []
  },
  {
   "cell_type": "code",
   "execution_count": null,
   "metadata": {},
   "outputs": [],
   "source": []
  },
  {
   "cell_type": "code",
   "execution_count": null,
   "metadata": {},
   "outputs": [],
   "source": []
  },
  {
   "cell_type": "code",
   "execution_count": null,
   "metadata": {},
   "outputs": [],
   "source": []
  },
  {
   "cell_type": "code",
   "execution_count": null,
   "metadata": {},
   "outputs": [],
   "source": []
  },
  {
   "cell_type": "code",
   "execution_count": null,
   "metadata": {},
   "outputs": [],
   "source": []
  },
  {
   "cell_type": "code",
   "execution_count": null,
   "metadata": {},
   "outputs": [],
   "source": []
  },
  {
   "cell_type": "code",
   "execution_count": null,
   "metadata": {},
   "outputs": [],
   "source": []
  },
  {
   "cell_type": "code",
   "execution_count": null,
   "metadata": {},
   "outputs": [],
   "source": []
  },
  {
   "cell_type": "code",
   "execution_count": null,
   "metadata": {},
   "outputs": [],
   "source": []
  },
  {
   "cell_type": "code",
   "execution_count": null,
   "metadata": {},
   "outputs": [],
   "source": []
  },
  {
   "cell_type": "code",
   "execution_count": null,
   "metadata": {},
   "outputs": [],
   "source": []
  },
  {
   "cell_type": "code",
   "execution_count": null,
   "metadata": {},
   "outputs": [],
   "source": []
  },
  {
   "cell_type": "code",
   "execution_count": null,
   "metadata": {},
   "outputs": [],
   "source": []
  }
 ],
 "metadata": {
  "kernelspec": {
   "display_name": "Python 3",
   "language": "python",
   "name": "python3"
  },
  "language_info": {
   "codemirror_mode": {
    "name": "ipython",
    "version": 3
   },
   "file_extension": ".py",
   "mimetype": "text/x-python",
   "name": "python",
   "nbconvert_exporter": "python",
   "pygments_lexer": "ipython3",
   "version": "3.7.4"
  }
 },
 "nbformat": 4,
 "nbformat_minor": 2
}
